{
 "cells": [
  {
   "cell_type": "markdown",
   "metadata": {},
   "source": [
    "# Analyse AirBnB Data from Seattle - Udacity Data Sience Nanodegree"
   ]
  },
  {
   "cell_type": "markdown",
   "metadata": {},
   "source": [
    "**Goal:**\n",
    "Analyse data according the CRISP-DM (Cross Industry Standard Process for Data Mining) method.\n",
    "\n",
    "**Data source:**\n",
    "\n",
    "Seattle AirBnb Data is available in kaggle: https://www.kaggle.com/airbnb/seattle\n",
    "- calendar.csv\n",
    "- listings.csv\n",
    "- reviews.csv"
   ]
  },
  {
   "cell_type": "markdown",
   "metadata": {},
   "source": [
    "# 1. Business understanding\n",
    "\n",
    "Interesting Questions on dataset:\n",
    " \n",
    "a) What neighborrhoods have the hightes prices? What neighbourhoods are most booked in Seattle? \n",
    "\n",
    "b) What kind of seasonal effects exist on pricing? Correlation to occupancy ratio in the whole city?\n",
    "\n",
    "c)  What are the most occuring amenities? What effect do they have on number of bookings?"
   ]
  },
  {
   "cell_type": "markdown",
   "metadata": {},
   "source": [
    "# 2. Data Understanding\n"
   ]
  },
  {
   "cell_type": "code",
   "execution_count": 49,
   "metadata": {},
   "outputs": [],
   "source": [
    "# import libraries\n",
    "import numpy as np\n",
    "import pandas as pd\n",
    "import matplotlib.pyplot as plt\n",
    "from sklearn.preprocessing import MultiLabelBinarizer\n",
    "\n"
   ]
  },
  {
   "cell_type": "code",
   "execution_count": 50,
   "metadata": {},
   "outputs": [
    {
     "name": "stdout",
     "output_type": "stream",
     "text": [
      "Rows:  1393570 Columns:  4\n"
     ]
    },
    {
     "data": {
      "text/html": [
       "<div>\n",
       "<style scoped>\n",
       "    .dataframe tbody tr th:only-of-type {\n",
       "        vertical-align: middle;\n",
       "    }\n",
       "\n",
       "    .dataframe tbody tr th {\n",
       "        vertical-align: top;\n",
       "    }\n",
       "\n",
       "    .dataframe thead th {\n",
       "        text-align: right;\n",
       "    }\n",
       "</style>\n",
       "<table border=\"1\" class=\"dataframe\">\n",
       "  <thead>\n",
       "    <tr style=\"text-align: right;\">\n",
       "      <th></th>\n",
       "      <th>listing_id</th>\n",
       "      <th>date</th>\n",
       "      <th>available</th>\n",
       "      <th>price</th>\n",
       "    </tr>\n",
       "  </thead>\n",
       "  <tbody>\n",
       "    <tr>\n",
       "      <th>0</th>\n",
       "      <td>241032</td>\n",
       "      <td>2016-01-04</td>\n",
       "      <td>t</td>\n",
       "      <td>$85.00</td>\n",
       "    </tr>\n",
       "    <tr>\n",
       "      <th>1</th>\n",
       "      <td>241032</td>\n",
       "      <td>2016-01-05</td>\n",
       "      <td>t</td>\n",
       "      <td>$85.00</td>\n",
       "    </tr>\n",
       "    <tr>\n",
       "      <th>2</th>\n",
       "      <td>241032</td>\n",
       "      <td>2016-01-06</td>\n",
       "      <td>f</td>\n",
       "      <td>NaN</td>\n",
       "    </tr>\n",
       "    <tr>\n",
       "      <th>3</th>\n",
       "      <td>241032</td>\n",
       "      <td>2016-01-07</td>\n",
       "      <td>f</td>\n",
       "      <td>NaN</td>\n",
       "    </tr>\n",
       "    <tr>\n",
       "      <th>4</th>\n",
       "      <td>241032</td>\n",
       "      <td>2016-01-08</td>\n",
       "      <td>f</td>\n",
       "      <td>NaN</td>\n",
       "    </tr>\n",
       "  </tbody>\n",
       "</table>\n",
       "</div>"
      ],
      "text/plain": [
       "   listing_id        date available   price\n",
       "0      241032  2016-01-04         t  $85.00\n",
       "1      241032  2016-01-05         t  $85.00\n",
       "2      241032  2016-01-06         f     NaN\n",
       "3      241032  2016-01-07         f     NaN\n",
       "4      241032  2016-01-08         f     NaN"
      ]
     },
     "execution_count": 50,
     "metadata": {},
     "output_type": "execute_result"
    }
   ],
   "source": [
    "# read calendar.csv\n",
    "df_cal = pd.read_csv('./data/calendar.csv')\n",
    "print('Rows: ', df_cal.shape[0], 'Columns: ', df_cal.shape[1])\n",
    "df_cal.head()"
   ]
  },
  {
   "cell_type": "code",
   "execution_count": 51,
   "metadata": {},
   "outputs": [
    {
     "data": {
      "text/plain": [
       "listing_id     int64\n",
       "date          object\n",
       "available     object\n",
       "price         object\n",
       "dtype: object"
      ]
     },
     "execution_count": 51,
     "metadata": {},
     "output_type": "execute_result"
    }
   ],
   "source": [
    "df_cal.dtypes"
   ]
  },
  {
   "cell_type": "code",
   "execution_count": 52,
   "metadata": {},
   "outputs": [
    {
     "name": "stdout",
     "output_type": "stream",
     "text": [
      "Rows:  3818 Columns:  92\n"
     ]
    },
    {
     "data": {
      "text/html": [
       "<div>\n",
       "<style scoped>\n",
       "    .dataframe tbody tr th:only-of-type {\n",
       "        vertical-align: middle;\n",
       "    }\n",
       "\n",
       "    .dataframe tbody tr th {\n",
       "        vertical-align: top;\n",
       "    }\n",
       "\n",
       "    .dataframe thead th {\n",
       "        text-align: right;\n",
       "    }\n",
       "</style>\n",
       "<table border=\"1\" class=\"dataframe\">\n",
       "  <thead>\n",
       "    <tr style=\"text-align: right;\">\n",
       "      <th></th>\n",
       "      <th>id</th>\n",
       "      <th>listing_url</th>\n",
       "      <th>scrape_id</th>\n",
       "      <th>last_scraped</th>\n",
       "      <th>name</th>\n",
       "      <th>summary</th>\n",
       "      <th>space</th>\n",
       "      <th>description</th>\n",
       "      <th>experiences_offered</th>\n",
       "      <th>neighborhood_overview</th>\n",
       "      <th>...</th>\n",
       "      <th>review_scores_value</th>\n",
       "      <th>requires_license</th>\n",
       "      <th>license</th>\n",
       "      <th>jurisdiction_names</th>\n",
       "      <th>instant_bookable</th>\n",
       "      <th>cancellation_policy</th>\n",
       "      <th>require_guest_profile_picture</th>\n",
       "      <th>require_guest_phone_verification</th>\n",
       "      <th>calculated_host_listings_count</th>\n",
       "      <th>reviews_per_month</th>\n",
       "    </tr>\n",
       "  </thead>\n",
       "  <tbody>\n",
       "    <tr>\n",
       "      <th>0</th>\n",
       "      <td>241032</td>\n",
       "      <td>https://www.airbnb.com/rooms/241032</td>\n",
       "      <td>20160104002432</td>\n",
       "      <td>2016-01-04</td>\n",
       "      <td>Stylish Queen Anne Apartment</td>\n",
       "      <td>NaN</td>\n",
       "      <td>Make your self at home in this charming one-be...</td>\n",
       "      <td>Make your self at home in this charming one-be...</td>\n",
       "      <td>none</td>\n",
       "      <td>NaN</td>\n",
       "      <td>...</td>\n",
       "      <td>10.0</td>\n",
       "      <td>f</td>\n",
       "      <td>NaN</td>\n",
       "      <td>WASHINGTON</td>\n",
       "      <td>f</td>\n",
       "      <td>moderate</td>\n",
       "      <td>f</td>\n",
       "      <td>f</td>\n",
       "      <td>2</td>\n",
       "      <td>4.07</td>\n",
       "    </tr>\n",
       "    <tr>\n",
       "      <th>1</th>\n",
       "      <td>953595</td>\n",
       "      <td>https://www.airbnb.com/rooms/953595</td>\n",
       "      <td>20160104002432</td>\n",
       "      <td>2016-01-04</td>\n",
       "      <td>Bright &amp; Airy Queen Anne Apartment</td>\n",
       "      <td>Chemically sensitive? We've removed the irrita...</td>\n",
       "      <td>Beautiful, hypoallergenic apartment in an extr...</td>\n",
       "      <td>Chemically sensitive? We've removed the irrita...</td>\n",
       "      <td>none</td>\n",
       "      <td>Queen Anne is a wonderful, truly functional vi...</td>\n",
       "      <td>...</td>\n",
       "      <td>10.0</td>\n",
       "      <td>f</td>\n",
       "      <td>NaN</td>\n",
       "      <td>WASHINGTON</td>\n",
       "      <td>f</td>\n",
       "      <td>strict</td>\n",
       "      <td>t</td>\n",
       "      <td>t</td>\n",
       "      <td>6</td>\n",
       "      <td>1.48</td>\n",
       "    </tr>\n",
       "    <tr>\n",
       "      <th>2</th>\n",
       "      <td>3308979</td>\n",
       "      <td>https://www.airbnb.com/rooms/3308979</td>\n",
       "      <td>20160104002432</td>\n",
       "      <td>2016-01-04</td>\n",
       "      <td>New Modern House-Amazing water view</td>\n",
       "      <td>New modern house built in 2013.  Spectacular s...</td>\n",
       "      <td>Our house is modern, light and fresh with a wa...</td>\n",
       "      <td>New modern house built in 2013.  Spectacular s...</td>\n",
       "      <td>none</td>\n",
       "      <td>Upper Queen Anne is a charming neighborhood fu...</td>\n",
       "      <td>...</td>\n",
       "      <td>10.0</td>\n",
       "      <td>f</td>\n",
       "      <td>NaN</td>\n",
       "      <td>WASHINGTON</td>\n",
       "      <td>f</td>\n",
       "      <td>strict</td>\n",
       "      <td>f</td>\n",
       "      <td>f</td>\n",
       "      <td>2</td>\n",
       "      <td>1.15</td>\n",
       "    </tr>\n",
       "    <tr>\n",
       "      <th>3</th>\n",
       "      <td>7421966</td>\n",
       "      <td>https://www.airbnb.com/rooms/7421966</td>\n",
       "      <td>20160104002432</td>\n",
       "      <td>2016-01-04</td>\n",
       "      <td>Queen Anne Chateau</td>\n",
       "      <td>A charming apartment that sits atop Queen Anne...</td>\n",
       "      <td>NaN</td>\n",
       "      <td>A charming apartment that sits atop Queen Anne...</td>\n",
       "      <td>none</td>\n",
       "      <td>NaN</td>\n",
       "      <td>...</td>\n",
       "      <td>NaN</td>\n",
       "      <td>f</td>\n",
       "      <td>NaN</td>\n",
       "      <td>WASHINGTON</td>\n",
       "      <td>f</td>\n",
       "      <td>flexible</td>\n",
       "      <td>f</td>\n",
       "      <td>f</td>\n",
       "      <td>1</td>\n",
       "      <td>NaN</td>\n",
       "    </tr>\n",
       "    <tr>\n",
       "      <th>4</th>\n",
       "      <td>278830</td>\n",
       "      <td>https://www.airbnb.com/rooms/278830</td>\n",
       "      <td>20160104002432</td>\n",
       "      <td>2016-01-04</td>\n",
       "      <td>Charming craftsman 3 bdm house</td>\n",
       "      <td>Cozy family craftman house in beautiful neighb...</td>\n",
       "      <td>Cozy family craftman house in beautiful neighb...</td>\n",
       "      <td>Cozy family craftman house in beautiful neighb...</td>\n",
       "      <td>none</td>\n",
       "      <td>We are in the beautiful neighborhood of Queen ...</td>\n",
       "      <td>...</td>\n",
       "      <td>9.0</td>\n",
       "      <td>f</td>\n",
       "      <td>NaN</td>\n",
       "      <td>WASHINGTON</td>\n",
       "      <td>f</td>\n",
       "      <td>strict</td>\n",
       "      <td>f</td>\n",
       "      <td>f</td>\n",
       "      <td>1</td>\n",
       "      <td>0.89</td>\n",
       "    </tr>\n",
       "  </tbody>\n",
       "</table>\n",
       "<p>5 rows × 92 columns</p>\n",
       "</div>"
      ],
      "text/plain": [
       "        id                           listing_url       scrape_id last_scraped  \\\n",
       "0   241032   https://www.airbnb.com/rooms/241032  20160104002432   2016-01-04   \n",
       "1   953595   https://www.airbnb.com/rooms/953595  20160104002432   2016-01-04   \n",
       "2  3308979  https://www.airbnb.com/rooms/3308979  20160104002432   2016-01-04   \n",
       "3  7421966  https://www.airbnb.com/rooms/7421966  20160104002432   2016-01-04   \n",
       "4   278830   https://www.airbnb.com/rooms/278830  20160104002432   2016-01-04   \n",
       "\n",
       "                                  name  \\\n",
       "0         Stylish Queen Anne Apartment   \n",
       "1   Bright & Airy Queen Anne Apartment   \n",
       "2  New Modern House-Amazing water view   \n",
       "3                   Queen Anne Chateau   \n",
       "4       Charming craftsman 3 bdm house   \n",
       "\n",
       "                                             summary  \\\n",
       "0                                                NaN   \n",
       "1  Chemically sensitive? We've removed the irrita...   \n",
       "2  New modern house built in 2013.  Spectacular s...   \n",
       "3  A charming apartment that sits atop Queen Anne...   \n",
       "4  Cozy family craftman house in beautiful neighb...   \n",
       "\n",
       "                                               space  \\\n",
       "0  Make your self at home in this charming one-be...   \n",
       "1  Beautiful, hypoallergenic apartment in an extr...   \n",
       "2  Our house is modern, light and fresh with a wa...   \n",
       "3                                                NaN   \n",
       "4  Cozy family craftman house in beautiful neighb...   \n",
       "\n",
       "                                         description experiences_offered  \\\n",
       "0  Make your self at home in this charming one-be...                none   \n",
       "1  Chemically sensitive? We've removed the irrita...                none   \n",
       "2  New modern house built in 2013.  Spectacular s...                none   \n",
       "3  A charming apartment that sits atop Queen Anne...                none   \n",
       "4  Cozy family craftman house in beautiful neighb...                none   \n",
       "\n",
       "                               neighborhood_overview  ... review_scores_value  \\\n",
       "0                                                NaN  ...                10.0   \n",
       "1  Queen Anne is a wonderful, truly functional vi...  ...                10.0   \n",
       "2  Upper Queen Anne is a charming neighborhood fu...  ...                10.0   \n",
       "3                                                NaN  ...                 NaN   \n",
       "4  We are in the beautiful neighborhood of Queen ...  ...                 9.0   \n",
       "\n",
       "  requires_license license jurisdiction_names instant_bookable  \\\n",
       "0                f     NaN         WASHINGTON                f   \n",
       "1                f     NaN         WASHINGTON                f   \n",
       "2                f     NaN         WASHINGTON                f   \n",
       "3                f     NaN         WASHINGTON                f   \n",
       "4                f     NaN         WASHINGTON                f   \n",
       "\n",
       "  cancellation_policy  require_guest_profile_picture  \\\n",
       "0            moderate                              f   \n",
       "1              strict                              t   \n",
       "2              strict                              f   \n",
       "3            flexible                              f   \n",
       "4              strict                              f   \n",
       "\n",
       "  require_guest_phone_verification calculated_host_listings_count  \\\n",
       "0                                f                              2   \n",
       "1                                t                              6   \n",
       "2                                f                              2   \n",
       "3                                f                              1   \n",
       "4                                f                              1   \n",
       "\n",
       "  reviews_per_month  \n",
       "0              4.07  \n",
       "1              1.48  \n",
       "2              1.15  \n",
       "3               NaN  \n",
       "4              0.89  \n",
       "\n",
       "[5 rows x 92 columns]"
      ]
     },
     "execution_count": 52,
     "metadata": {},
     "output_type": "execute_result"
    }
   ],
   "source": [
    "# read listings.csv\n",
    "df_list = pd.read_csv('./data/listings.csv')\n",
    "print('Rows: ', df_list.shape[0], 'Columns: ', df_list.shape[1])\n",
    "df_list.head()\n"
   ]
  },
  {
   "cell_type": "code",
   "execution_count": 53,
   "metadata": {},
   "outputs": [
    {
     "data": {
      "text/plain": [
       "3818"
      ]
     },
     "execution_count": 53,
     "metadata": {},
     "output_type": "execute_result"
    }
   ],
   "source": [
    "# count number of listing_ids\n",
    "len(df_list.id.unique())"
   ]
  },
  {
   "cell_type": "code",
   "execution_count": 54,
   "metadata": {},
   "outputs": [
    {
     "name": "stdout",
     "output_type": "stream",
     "text": [
      "id                                    int64\n",
      "listing_url                          object\n",
      "scrape_id                             int64\n",
      "last_scraped                         object\n",
      "name                                 object\n",
      "summary                              object\n",
      "space                                object\n",
      "description                          object\n",
      "experiences_offered                  object\n",
      "neighborhood_overview                object\n",
      "notes                                object\n",
      "transit                              object\n",
      "thumbnail_url                        object\n",
      "medium_url                           object\n",
      "picture_url                          object\n",
      "xl_picture_url                       object\n",
      "host_id                               int64\n",
      "host_url                             object\n",
      "host_name                            object\n",
      "host_since                           object\n",
      "host_location                        object\n",
      "host_about                           object\n",
      "host_response_time                   object\n",
      "host_response_rate                   object\n",
      "host_acceptance_rate                 object\n",
      "host_is_superhost                    object\n",
      "host_thumbnail_url                   object\n",
      "host_picture_url                     object\n",
      "host_neighbourhood                   object\n",
      "host_listings_count                 float64\n",
      "host_total_listings_count           float64\n",
      "host_verifications                   object\n",
      "host_has_profile_pic                 object\n",
      "host_identity_verified               object\n",
      "street                               object\n",
      "neighbourhood                        object\n",
      "neighbourhood_cleansed               object\n",
      "neighbourhood_group_cleansed         object\n",
      "city                                 object\n",
      "state                                object\n",
      "zipcode                              object\n",
      "market                               object\n",
      "smart_location                       object\n",
      "country_code                         object\n",
      "country                              object\n",
      "latitude                            float64\n",
      "longitude                           float64\n",
      "is_location_exact                    object\n",
      "property_type                        object\n",
      "room_type                            object\n",
      "accommodates                          int64\n",
      "bathrooms                           float64\n",
      "bedrooms                            float64\n",
      "beds                                float64\n",
      "bed_type                             object\n",
      "amenities                            object\n",
      "square_feet                         float64\n",
      "price                                object\n",
      "weekly_price                         object\n",
      "monthly_price                        object\n",
      "security_deposit                     object\n",
      "cleaning_fee                         object\n",
      "guests_included                       int64\n",
      "extra_people                         object\n",
      "minimum_nights                        int64\n",
      "maximum_nights                        int64\n",
      "calendar_updated                     object\n",
      "has_availability                     object\n",
      "availability_30                       int64\n",
      "availability_60                       int64\n",
      "availability_90                       int64\n",
      "availability_365                      int64\n",
      "calendar_last_scraped                object\n",
      "number_of_reviews                     int64\n",
      "first_review                         object\n",
      "last_review                          object\n",
      "review_scores_rating                float64\n",
      "review_scores_accuracy              float64\n",
      "review_scores_cleanliness           float64\n",
      "review_scores_checkin               float64\n",
      "review_scores_communication         float64\n",
      "review_scores_location              float64\n",
      "review_scores_value                 float64\n",
      "requires_license                     object\n",
      "license                             float64\n",
      "jurisdiction_names                   object\n",
      "instant_bookable                     object\n",
      "cancellation_policy                  object\n",
      "require_guest_profile_picture        object\n",
      "require_guest_phone_verification     object\n",
      "calculated_host_listings_count        int64\n",
      "reviews_per_month                   float64\n",
      "dtype: object\n"
     ]
    }
   ],
   "source": [
    "# column names + types\n",
    "list_type = df_list.dtypes\n",
    "pd.set_option('display.max_rows', 100)\n",
    "print(list_type)\n"
   ]
  },
  {
   "cell_type": "code",
   "execution_count": 55,
   "metadata": {},
   "outputs": [
    {
     "name": "stdout",
     "output_type": "stream",
     "text": [
      "Rows:  84849 Columns:  6\n"
     ]
    },
    {
     "data": {
      "text/html": [
       "<div>\n",
       "<style scoped>\n",
       "    .dataframe tbody tr th:only-of-type {\n",
       "        vertical-align: middle;\n",
       "    }\n",
       "\n",
       "    .dataframe tbody tr th {\n",
       "        vertical-align: top;\n",
       "    }\n",
       "\n",
       "    .dataframe thead th {\n",
       "        text-align: right;\n",
       "    }\n",
       "</style>\n",
       "<table border=\"1\" class=\"dataframe\">\n",
       "  <thead>\n",
       "    <tr style=\"text-align: right;\">\n",
       "      <th></th>\n",
       "      <th>listing_id</th>\n",
       "      <th>id</th>\n",
       "      <th>date</th>\n",
       "      <th>reviewer_id</th>\n",
       "      <th>reviewer_name</th>\n",
       "      <th>comments</th>\n",
       "    </tr>\n",
       "  </thead>\n",
       "  <tbody>\n",
       "    <tr>\n",
       "      <th>0</th>\n",
       "      <td>7202016</td>\n",
       "      <td>38917982</td>\n",
       "      <td>2015-07-19</td>\n",
       "      <td>28943674</td>\n",
       "      <td>Bianca</td>\n",
       "      <td>Cute and cozy place. Perfect location to every...</td>\n",
       "    </tr>\n",
       "    <tr>\n",
       "      <th>1</th>\n",
       "      <td>7202016</td>\n",
       "      <td>39087409</td>\n",
       "      <td>2015-07-20</td>\n",
       "      <td>32440555</td>\n",
       "      <td>Frank</td>\n",
       "      <td>Kelly has a great room in a very central locat...</td>\n",
       "    </tr>\n",
       "    <tr>\n",
       "      <th>2</th>\n",
       "      <td>7202016</td>\n",
       "      <td>39820030</td>\n",
       "      <td>2015-07-26</td>\n",
       "      <td>37722850</td>\n",
       "      <td>Ian</td>\n",
       "      <td>Very spacious apartment, and in a great neighb...</td>\n",
       "    </tr>\n",
       "    <tr>\n",
       "      <th>3</th>\n",
       "      <td>7202016</td>\n",
       "      <td>40813543</td>\n",
       "      <td>2015-08-02</td>\n",
       "      <td>33671805</td>\n",
       "      <td>George</td>\n",
       "      <td>Close to Seattle Center and all it has to offe...</td>\n",
       "    </tr>\n",
       "    <tr>\n",
       "      <th>4</th>\n",
       "      <td>7202016</td>\n",
       "      <td>41986501</td>\n",
       "      <td>2015-08-10</td>\n",
       "      <td>34959538</td>\n",
       "      <td>Ming</td>\n",
       "      <td>Kelly was a great host and very accommodating ...</td>\n",
       "    </tr>\n",
       "  </tbody>\n",
       "</table>\n",
       "</div>"
      ],
      "text/plain": [
       "   listing_id        id        date  reviewer_id reviewer_name  \\\n",
       "0     7202016  38917982  2015-07-19     28943674        Bianca   \n",
       "1     7202016  39087409  2015-07-20     32440555         Frank   \n",
       "2     7202016  39820030  2015-07-26     37722850           Ian   \n",
       "3     7202016  40813543  2015-08-02     33671805        George   \n",
       "4     7202016  41986501  2015-08-10     34959538          Ming   \n",
       "\n",
       "                                            comments  \n",
       "0  Cute and cozy place. Perfect location to every...  \n",
       "1  Kelly has a great room in a very central locat...  \n",
       "2  Very spacious apartment, and in a great neighb...  \n",
       "3  Close to Seattle Center and all it has to offe...  \n",
       "4  Kelly was a great host and very accommodating ...  "
      ]
     },
     "execution_count": 55,
     "metadata": {},
     "output_type": "execute_result"
    }
   ],
   "source": [
    "# read reviews.csv\n",
    "df_rev = pd.read_csv('./data/reviews.csv')\n",
    "print('Rows: ', df_rev.shape[0], 'Columns: ', df_rev.shape[1])\n",
    "df_rev.head()"
   ]
  },
  {
   "cell_type": "code",
   "execution_count": 56,
   "metadata": {},
   "outputs": [
    {
     "data": {
      "text/plain": [
       "listing_id        int64\n",
       "id                int64\n",
       "date             object\n",
       "reviewer_id       int64\n",
       "reviewer_name    object\n",
       "comments         object\n",
       "dtype: object"
      ]
     },
     "execution_count": 56,
     "metadata": {},
     "output_type": "execute_result"
    }
   ],
   "source": [
    "df_rev.dtypes"
   ]
  },
  {
   "cell_type": "markdown",
   "metadata": {},
   "source": [
    "**Result of data understanding:**\n",
    "\n",
    "\n",
    "\n",
    "| Table | No of rows | No of columns | Content|\n",
    "| :-: | :-:| :-: | :-: |\n",
    "| *calendar* | 1393570 | 4 | availability and price for each object depending on date |\n",
    "| *listing* | 3818 | 92 |  information for each object (host, neighborhood, amenities, type), 1 entry for each object |\n",
    "| *reviews* | 84849 | 9 | comments of reviewers for each object |"
   ]
  },
  {
   "cell_type": "markdown",
   "metadata": {},
   "source": [
    "## 3. Data Preparation"
   ]
  },
  {
   "cell_type": "markdown",
   "metadata": {},
   "source": [
    "### dataframe calendar:\n",
    "- convert datatypes\n",
    "- remove NaN in column price\n",
    "- extract year, month day "
   ]
  },
  {
   "cell_type": "code",
   "execution_count": 57,
   "metadata": {},
   "outputs": [
    {
     "data": {
      "text/html": [
       "<div>\n",
       "<style scoped>\n",
       "    .dataframe tbody tr th:only-of-type {\n",
       "        vertical-align: middle;\n",
       "    }\n",
       "\n",
       "    .dataframe tbody tr th {\n",
       "        vertical-align: top;\n",
       "    }\n",
       "\n",
       "    .dataframe thead th {\n",
       "        text-align: right;\n",
       "    }\n",
       "</style>\n",
       "<table border=\"1\" class=\"dataframe\">\n",
       "  <thead>\n",
       "    <tr style=\"text-align: right;\">\n",
       "      <th></th>\n",
       "      <th>listing_id</th>\n",
       "      <th>date</th>\n",
       "      <th>available</th>\n",
       "      <th>price</th>\n",
       "    </tr>\n",
       "  </thead>\n",
       "  <tbody>\n",
       "    <tr>\n",
       "      <th>0</th>\n",
       "      <td>241032</td>\n",
       "      <td>2016-01-04</td>\n",
       "      <td>t</td>\n",
       "      <td>$85.00</td>\n",
       "    </tr>\n",
       "    <tr>\n",
       "      <th>1</th>\n",
       "      <td>241032</td>\n",
       "      <td>2016-01-05</td>\n",
       "      <td>t</td>\n",
       "      <td>$85.00</td>\n",
       "    </tr>\n",
       "    <tr>\n",
       "      <th>2</th>\n",
       "      <td>241032</td>\n",
       "      <td>2016-01-06</td>\n",
       "      <td>f</td>\n",
       "      <td>NaN</td>\n",
       "    </tr>\n",
       "    <tr>\n",
       "      <th>3</th>\n",
       "      <td>241032</td>\n",
       "      <td>2016-01-07</td>\n",
       "      <td>f</td>\n",
       "      <td>NaN</td>\n",
       "    </tr>\n",
       "    <tr>\n",
       "      <th>4</th>\n",
       "      <td>241032</td>\n",
       "      <td>2016-01-08</td>\n",
       "      <td>f</td>\n",
       "      <td>NaN</td>\n",
       "    </tr>\n",
       "    <tr>\n",
       "      <th>...</th>\n",
       "      <td>...</td>\n",
       "      <td>...</td>\n",
       "      <td>...</td>\n",
       "      <td>...</td>\n",
       "    </tr>\n",
       "    <tr>\n",
       "      <th>1393565</th>\n",
       "      <td>10208623</td>\n",
       "      <td>2016-12-29</td>\n",
       "      <td>f</td>\n",
       "      <td>NaN</td>\n",
       "    </tr>\n",
       "    <tr>\n",
       "      <th>1393566</th>\n",
       "      <td>10208623</td>\n",
       "      <td>2016-12-30</td>\n",
       "      <td>f</td>\n",
       "      <td>NaN</td>\n",
       "    </tr>\n",
       "    <tr>\n",
       "      <th>1393567</th>\n",
       "      <td>10208623</td>\n",
       "      <td>2016-12-31</td>\n",
       "      <td>f</td>\n",
       "      <td>NaN</td>\n",
       "    </tr>\n",
       "    <tr>\n",
       "      <th>1393568</th>\n",
       "      <td>10208623</td>\n",
       "      <td>2017-01-01</td>\n",
       "      <td>f</td>\n",
       "      <td>NaN</td>\n",
       "    </tr>\n",
       "    <tr>\n",
       "      <th>1393569</th>\n",
       "      <td>10208623</td>\n",
       "      <td>2017-01-02</td>\n",
       "      <td>f</td>\n",
       "      <td>NaN</td>\n",
       "    </tr>\n",
       "  </tbody>\n",
       "</table>\n",
       "<p>1393570 rows × 4 columns</p>\n",
       "</div>"
      ],
      "text/plain": [
       "         listing_id        date available   price\n",
       "0            241032  2016-01-04         t  $85.00\n",
       "1            241032  2016-01-05         t  $85.00\n",
       "2            241032  2016-01-06         f     NaN\n",
       "3            241032  2016-01-07         f     NaN\n",
       "4            241032  2016-01-08         f     NaN\n",
       "...             ...         ...       ...     ...\n",
       "1393565    10208623  2016-12-29         f     NaN\n",
       "1393566    10208623  2016-12-30         f     NaN\n",
       "1393567    10208623  2016-12-31         f     NaN\n",
       "1393568    10208623  2017-01-01         f     NaN\n",
       "1393569    10208623  2017-01-02         f     NaN\n",
       "\n",
       "[1393570 rows x 4 columns]"
      ]
     },
     "execution_count": 57,
     "metadata": {},
     "output_type": "execute_result"
    }
   ],
   "source": [
    "# clean data in dataframe calendar\n",
    "pd.set_option('display.max_row', 1000)\n",
    "df_cal\n",
    "#df_cal.dtypes"
   ]
  },
  {
   "cell_type": "code",
   "execution_count": 58,
   "metadata": {},
   "outputs": [
    {
     "name": "stdout",
     "output_type": "stream",
     "text": [
      "         listing_id       date  available  price  year  day  month  week\n",
      "0            241032 2016-01-04       True   85.0  2016    4      1     1\n",
      "1            241032 2016-01-05       True   85.0  2016    5      1     1\n",
      "2            241032 2016-01-06      False    NaN  2016    6      1     1\n",
      "3            241032 2016-01-07      False    NaN  2016    7      1     1\n",
      "4            241032 2016-01-08      False    NaN  2016    8      1     1\n",
      "...             ...        ...        ...    ...   ...  ...    ...   ...\n",
      "1393565    10208623 2016-12-29      False    NaN  2016   29     12    52\n",
      "1393566    10208623 2016-12-30      False    NaN  2016   30     12    52\n",
      "1393567    10208623 2016-12-31      False    NaN  2016   31     12    52\n",
      "1393568    10208623 2017-01-01      False    NaN  2017    1      1    52\n",
      "1393569    10208623 2017-01-02      False    NaN  2017    2      1     1\n",
      "\n",
      "[1393570 rows x 8 columns]\n"
     ]
    }
   ],
   "source": [
    "# convert data type of column available to boolean\n",
    "df_cal['available'] = df_cal['available'] == 't'\n",
    "\n",
    "# convert data type of column price to float\n",
    "df_cal['price'] = df_cal['price'].str.replace('$', '')\n",
    "\n",
    "\n",
    "df_cal['price'] = df_cal['price'].str.replace(',', '')\n",
    "df_cal['price'] = df_cal['price'].astype(float)\n",
    "\n",
    "# convert date to datatype datatime & extract year, day, month, week\n",
    "df_cal['year'] = pd.DatetimeIndex(df_cal['date']).year\n",
    "df_cal['day'] = pd.DatetimeIndex(df_cal['date']).day\n",
    "df_cal['month'] = pd.DatetimeIndex(df_cal['date']).month\n",
    "df_cal['week'] = pd.Int64Index(pd.DatetimeIndex(df_cal['date']).isocalendar().week)\n",
    "df_cal['date'] = pd.to_datetime(df_cal['date'])\n",
    "print(df_cal)"
   ]
  },
  {
   "cell_type": "code",
   "execution_count": 59,
   "metadata": {},
   "outputs": [
    {
     "name": "stdout",
     "output_type": "stream",
     "text": [
      "True     934542\n",
      "False    459028\n",
      "Name: available, dtype: int64\n",
      "459028\n"
     ]
    }
   ],
   "source": [
    "# check if price is only NaN in case available is false\n",
    "print(df_cal['available'].value_counts())\n",
    "print(np.sum(df_cal.price.isna()))\n",
    "\n",
    "# replace all na with 0\n",
    "#df_cal['price'].fillna(0, inplace=True)"
   ]
  },
  {
   "cell_type": "code",
   "execution_count": 60,
   "metadata": {},
   "outputs": [
    {
     "data": {
      "text/plain": [
       "listing_id             int64\n",
       "date          datetime64[ns]\n",
       "available               bool\n",
       "price                float64\n",
       "year                   int64\n",
       "day                    int64\n",
       "month                  int64\n",
       "week                   int64\n",
       "dtype: object"
      ]
     },
     "execution_count": 60,
     "metadata": {},
     "output_type": "execute_result"
    }
   ],
   "source": [
    "# final types\n",
    "df_cal.dtypes"
   ]
  },
  {
   "cell_type": "markdown",
   "metadata": {},
   "source": [
    "### dataframe listing:\n",
    "\n",
    "- copy all relevant columns to a new dataframe\n",
    "- clean dataset\n",
    "- check if values are 0 or NaN\n",
    "- split categorical values to binär values if necessary"
   ]
  },
  {
   "cell_type": "code",
   "execution_count": 61,
   "metadata": {},
   "outputs": [
    {
     "name": "stdout",
     "output_type": "stream",
     "text": [
      "rows with null:  0  --- rows with NaN: 0\n",
      "0                Queen Anne\n",
      "1                Queen Anne\n",
      "2                Queen Anne\n",
      "3                Queen Anne\n",
      "4                Queen Anne\n",
      "               ...         \n",
      "3813    Other neighborhoods\n",
      "3814           Capitol Hill\n",
      "3815         Rainier Valley\n",
      "3816           Capitol Hill\n",
      "3817             Queen Anne\n",
      "Name: neighbourhood_group_cleansed, Length: 3818, dtype: category\n",
      "Categories (17, object): ['Ballard', 'Beacon Hill', 'Capitol Hill', 'Cascade', ..., 'Rainier Valley', 'Seward Park', 'University District', 'West Seattle']\n"
     ]
    }
   ],
   "source": [
    "# column neighbourhood (relevant for 1a)\n",
    "\n",
    "print(\"rows with null: \", np.sum(df_list['neighbourhood_group_cleansed'].isnull()), \" --- rows with NaN:\", np.sum(df_list['neighbourhood_group_cleansed'].isna()))\n",
    "df_list['neighbourhood_group_cleansed'].value_counts()\n",
    "\n",
    "#change to categorical variable\n",
    "df_list['neighbourhood_group_cleansed'] = df_list['neighbourhood_group_cleansed'].astype('category')\n",
    "print(df_list['neighbourhood_group_cleansed'])"
   ]
  },
  {
   "cell_type": "code",
   "execution_count": 62,
   "metadata": {},
   "outputs": [],
   "source": [
    "# column price\n",
    "# replace $ and convert to float\n",
    "df_list['price'] = df_list['price'].str.replace('$', '')\n",
    "df_list['price'] = df_list['price'].str.replace(',', '')\n",
    "df_list['price'] = df_list['price'].astype(float)\n"
   ]
  },
  {
   "cell_type": "markdown",
   "metadata": {},
   "source": [
    "**Column amenities**\n",
    "\n",
    "For easier data analysis for each amenity a separate column with boolean value should be created"
   ]
  },
  {
   "cell_type": "code",
   "execution_count": 63,
   "metadata": {},
   "outputs": [
    {
     "name": "stdout",
     "output_type": "stream",
     "text": [
      "0       {TV,\"Cable TV\",Internet,\"Wireless Internet\",\"A...\n",
      "1       {TV,Internet,\"Wireless Internet\",Kitchen,\"Free...\n",
      "2       {TV,\"Cable TV\",Internet,\"Wireless Internet\",\"A...\n",
      "3       {Internet,\"Wireless Internet\",Kitchen,\"Indoor ...\n",
      "4       {TV,\"Cable TV\",Internet,\"Wireless Internet\",Ki...\n",
      "                              ...                        \n",
      "3813    {TV,\"Cable TV\",Internet,\"Wireless Internet\",\"A...\n",
      "3814    {TV,\"Cable TV\",Internet,\"Wireless Internet\",Ki...\n",
      "3815    {\"Cable TV\",\"Wireless Internet\",Kitchen,\"Free ...\n",
      "3816    {TV,\"Wireless Internet\",Kitchen,\"Free Parking ...\n",
      "3817    {TV,\"Cable TV\",Internet,\"Wireless Internet\",Ki...\n",
      "Name: amenities, Length: 3818, dtype: object\n"
     ]
    }
   ],
   "source": [
    "# column amenities (relevant for question 1c)\n",
    "df_ame = df_list['amenities'].copy()\n",
    "print(df_ame)\n"
   ]
  },
  {
   "cell_type": "code",
   "execution_count": 64,
   "metadata": {},
   "outputs": [
    {
     "name": "stdout",
     "output_type": "stream",
     "text": [
      "Index(['', '24-Hour Check-in', 'Air Conditioning', 'Breakfast',\n",
      "       'Buzzer/Wireless Intercom', 'Cable TV', 'Carbon Monoxide Detector',\n",
      "       'Cat(s)', 'Dog(s)', 'Doorman', 'Dryer', 'Elevator in Building',\n",
      "       'Essentials', 'Family/Kid Friendly', 'Fire Extinguisher',\n",
      "       'First Aid Kit', 'Free Parking on Premises', 'Gym', 'Hair Dryer',\n",
      "       'Hangers', 'Heating', 'Hot Tub', 'Indoor Fireplace', 'Internet', 'Iron',\n",
      "       'Kitchen', 'Laptop Friendly Workspace', 'Lock on Bedroom Door',\n",
      "       'Other pet(s)', 'Pets Allowed', 'Pets live on this property', 'Pool',\n",
      "       'Safety Card', 'Shampoo', 'Smoke Detector', 'Smoking Allowed',\n",
      "       'Suitable for Events', 'TV', 'Washer', 'Washer / Dryer',\n",
      "       'Wheelchair Accessible', 'Wireless Internet'],\n",
      "      dtype='object')\n",
      "      24-Hour Check-in  Air Conditioning  Breakfast  Buzzer/Wireless Intercom  \\\n",
      "0                False              True      False                     False   \n",
      "1                False             False      False                      True   \n",
      "2                False              True      False                     False   \n",
      "3                False             False      False                     False   \n",
      "4                False             False      False                     False   \n",
      "...                ...               ...        ...                       ...   \n",
      "3813             False              True      False                     False   \n",
      "3814              True             False      False                     False   \n",
      "3815             False             False       True                     False   \n",
      "3816             False             False      False                     False   \n",
      "3817             False             False      False                      True   \n",
      "\n",
      "      Cable TV  Carbon Monoxide Detector  Cat(s)  Dog(s)  Doorman  Dryer  ...  \\\n",
      "0         True                     False   False   False    False   True  ...   \n",
      "1        False                      True   False   False    False   True  ...   \n",
      "2         True                      True    True    True    False   True  ...   \n",
      "3        False                      True   False   False    False   True  ...   \n",
      "4         True                      True   False   False    False  False  ...   \n",
      "...        ...                       ...     ...     ...      ...    ...  ...   \n",
      "3813      True                     False   False   False    False   True  ...   \n",
      "3814      True                     False   False   False    False  False  ...   \n",
      "3815      True                     False    True    True    False   True  ...   \n",
      "3816     False                     False   False   False    False  False  ...   \n",
      "3817      True                     False   False    True    False   True  ...   \n",
      "\n",
      "      Safety Card  Shampoo  Smoke Detector  Smoking Allowed  \\\n",
      "0           False    False           False            False   \n",
      "1            True    False            True            False   \n",
      "2           False     True            True            False   \n",
      "3            True     True            True            False   \n",
      "4           False     True            True            False   \n",
      "...           ...      ...             ...              ...   \n",
      "3813        False     True            True            False   \n",
      "3814        False     True            True            False   \n",
      "3815         True    False            True            False   \n",
      "3816        False    False            True            False   \n",
      "3817        False     True            True            False   \n",
      "\n",
      "      Suitable for Events     TV  Washer  Washer / Dryer  \\\n",
      "0                   False   True    True           False   \n",
      "1                   False   True    True           False   \n",
      "2                   False   True    True           False   \n",
      "3                   False  False    True           False   \n",
      "4                   False   True   False           False   \n",
      "...                   ...    ...     ...             ...   \n",
      "3813                False   True    True           False   \n",
      "3814                False   True   False           False   \n",
      "3815                False  False    True           False   \n",
      "3816                False   True   False           False   \n",
      "3817                False   True    True           False   \n",
      "\n",
      "      Wheelchair Accessible  Wireless Internet  \n",
      "0                     False               True  \n",
      "1                     False               True  \n",
      "2                     False               True  \n",
      "3                     False               True  \n",
      "4                     False               True  \n",
      "...                     ...                ...  \n",
      "3813                   True               True  \n",
      "3814                  False               True  \n",
      "3815                  False               True  \n",
      "3816                  False               True  \n",
      "3817                  False               True  \n",
      "\n",
      "[3818 rows x 41 columns]\n"
     ]
    }
   ],
   "source": [
    "df_ame = df_ame.str.replace('\"', '')\n",
    "df_ame = df_ame.str.replace('{', '')\n",
    "df_ame = df_ame.str.replace('}', '')\n",
    "df_ame.fillna('none')\n",
    "# print(df_ame)\n",
    "\n",
    "# use mulitlabelbinarizer from sklearn: \n",
    "# https://stackoverflow.com/questions/58871608/how-to-binary-encode-multi-valued-categorical-variable-in-pandas\n",
    "mlb = MultiLabelBinarizer()\n",
    "df_label_ame = pd.DataFrame(mlb.fit_transform(df_ame.str.split(\",\")), columns = mlb.classes_, index=df_ame.index)\n",
    "print(df_label_ame.columns)\n",
    "# drop column with empty label\n",
    "df_label_ame.drop('', axis=1, inplace=True)\n",
    "df_label_ame = df_label_ame.astype('bool')\n",
    "print(df_label_ame)\n",
    "#df_label_ame.dtypes"
   ]
  },
  {
   "cell_type": "code",
   "execution_count": 65,
   "metadata": {},
   "outputs": [
    {
     "name": "stdout",
     "output_type": "stream",
     "text": [
      "0       346\n",
      "1       291\n",
      "2       220\n",
      "3       143\n",
      "4       365\n",
      "       ... \n",
      "3813     32\n",
      "3814    273\n",
      "3815     88\n",
      "3816    179\n",
      "3817      7\n",
      "Name: availability_365, Length: 3818, dtype: int64\n"
     ]
    },
    {
     "data": {
      "text/plain": [
       "365"
      ]
     },
     "execution_count": 65,
     "metadata": {},
     "output_type": "execute_result"
    }
   ],
   "source": [
    "aa = df_list['availability_365']\n",
    "print(aa)\n",
    "aa.max()"
   ]
  },
  {
   "cell_type": "markdown",
   "metadata": {},
   "source": [
    "## 4. Data Modeling\n",
    "not necessary to answer business questions"
   ]
  },
  {
   "cell_type": "markdown",
   "metadata": {},
   "source": [
    "## 5. Data Evaluation and Visualization"
   ]
  },
  {
   "cell_type": "markdown",
   "metadata": {},
   "source": [
    "### a)  What neighborrhoods have the hightes prices? What neighbourhoods are most booked in Seattle?\n",
    "\n",
    "\n",
    "\n",
    "**DATA EVALUATION**\n",
    "\n",
    "For availability I use the avaiability_365 (average of complete year).\n",
    "Price and availability_365 can be found in listing; data is grouped by neighbourhood_group_cleansed since number of categories (neighourhoods) is comparable"
   ]
  },
  {
   "cell_type": "code",
   "execution_count": 66,
   "metadata": {},
   "outputs": [
    {
     "data": {
      "text/html": [
       "<div>\n",
       "<style scoped>\n",
       "    .dataframe tbody tr th:only-of-type {\n",
       "        vertical-align: middle;\n",
       "    }\n",
       "\n",
       "    .dataframe tbody tr th {\n",
       "        vertical-align: top;\n",
       "    }\n",
       "\n",
       "    .dataframe thead th {\n",
       "        text-align: right;\n",
       "    }\n",
       "</style>\n",
       "<table border=\"1\" class=\"dataframe\">\n",
       "  <thead>\n",
       "    <tr style=\"text-align: right;\">\n",
       "      <th></th>\n",
       "      <th>price</th>\n",
       "      <th>availability_365</th>\n",
       "    </tr>\n",
       "    <tr>\n",
       "      <th>neighbourhood_group_cleansed</th>\n",
       "      <th></th>\n",
       "      <th></th>\n",
       "    </tr>\n",
       "  </thead>\n",
       "  <tbody>\n",
       "    <tr>\n",
       "      <th>Magnolia</th>\n",
       "      <td>177.672131</td>\n",
       "      <td>0.774669</td>\n",
       "    </tr>\n",
       "    <tr>\n",
       "      <th>Queen Anne</th>\n",
       "      <td>157.223729</td>\n",
       "      <td>0.620423</td>\n",
       "    </tr>\n",
       "    <tr>\n",
       "      <th>Downtown</th>\n",
       "      <td>154.405660</td>\n",
       "      <td>0.649910</td>\n",
       "    </tr>\n",
       "    <tr>\n",
       "      <th>West Seattle</th>\n",
       "      <td>141.359606</td>\n",
       "      <td>0.701127</td>\n",
       "    </tr>\n",
       "    <tr>\n",
       "      <th>Cascade</th>\n",
       "      <td>140.101124</td>\n",
       "      <td>0.576174</td>\n",
       "    </tr>\n",
       "    <tr>\n",
       "      <th>Capitol Hill</th>\n",
       "      <td>130.592593</td>\n",
       "      <td>0.641048</td>\n",
       "    </tr>\n",
       "    <tr>\n",
       "      <th>Central Area</th>\n",
       "      <td>128.338753</td>\n",
       "      <td>0.672354</td>\n",
       "    </tr>\n",
       "    <tr>\n",
       "      <th>Ballard</th>\n",
       "      <td>124.682609</td>\n",
       "      <td>0.692257</td>\n",
       "    </tr>\n",
       "    <tr>\n",
       "      <th>Other neighborhoods</th>\n",
       "      <td>119.968514</td>\n",
       "      <td>0.671685</td>\n",
       "    </tr>\n",
       "    <tr>\n",
       "      <th>Interbay</th>\n",
       "      <td>109.727273</td>\n",
       "      <td>0.845330</td>\n",
       "    </tr>\n",
       "    <tr>\n",
       "      <th>Seward Park</th>\n",
       "      <td>108.477273</td>\n",
       "      <td>0.680012</td>\n",
       "    </tr>\n",
       "    <tr>\n",
       "      <th>Beacon Hill</th>\n",
       "      <td>94.669492</td>\n",
       "      <td>0.702809</td>\n",
       "    </tr>\n",
       "    <tr>\n",
       "      <th>University District</th>\n",
       "      <td>93.639344</td>\n",
       "      <td>0.744397</td>\n",
       "    </tr>\n",
       "    <tr>\n",
       "      <th>Lake City</th>\n",
       "      <td>92.671642</td>\n",
       "      <td>0.768800</td>\n",
       "    </tr>\n",
       "    <tr>\n",
       "      <th>Rainier Valley</th>\n",
       "      <td>91.899371</td>\n",
       "      <td>0.670526</td>\n",
       "    </tr>\n",
       "    <tr>\n",
       "      <th>Northgate</th>\n",
       "      <td>88.550000</td>\n",
       "      <td>0.722774</td>\n",
       "    </tr>\n",
       "    <tr>\n",
       "      <th>Delridge</th>\n",
       "      <td>83.278481</td>\n",
       "      <td>0.747182</td>\n",
       "    </tr>\n",
       "  </tbody>\n",
       "</table>\n",
       "</div>"
      ],
      "text/plain": [
       "                                   price  availability_365\n",
       "neighbourhood_group_cleansed                              \n",
       "Magnolia                      177.672131          0.774669\n",
       "Queen Anne                    157.223729          0.620423\n",
       "Downtown                      154.405660          0.649910\n",
       "West Seattle                  141.359606          0.701127\n",
       "Cascade                       140.101124          0.576174\n",
       "Capitol Hill                  130.592593          0.641048\n",
       "Central Area                  128.338753          0.672354\n",
       "Ballard                       124.682609          0.692257\n",
       "Other neighborhoods           119.968514          0.671685\n",
       "Interbay                      109.727273          0.845330\n",
       "Seward Park                   108.477273          0.680012\n",
       "Beacon Hill                    94.669492          0.702809\n",
       "University District            93.639344          0.744397\n",
       "Lake City                      92.671642          0.768800\n",
       "Rainier Valley                 91.899371          0.670526\n",
       "Northgate                      88.550000          0.722774\n",
       "Delridge                       83.278481          0.747182"
      ]
     },
     "execution_count": 66,
     "metadata": {},
     "output_type": "execute_result"
    }
   ],
   "source": [
    "resAA = df_list.groupby(['neighbourhood_group_cleansed'])[['price', 'availability_365']].mean().sort_values(by='price', ascending=False)\n",
    "resAA['availability_365'] = resAA['availability_365'].div(365)\n",
    "resAA\n"
   ]
  },
  {
   "cell_type": "code",
   "execution_count": 67,
   "metadata": {},
   "outputs": [
    {
     "data": {
      "image/png": "[encoded data removed]",
      "text/plain": [
       "<Figure size 720x576 with 2 Axes>"
      ]
     },
     "metadata": {
      "needs_background": "light"
     },
     "output_type": "display_data"
    }
   ],
   "source": [
    "plt.rcParams.update({'font.size': 14})\n",
    "fig, ax1 = plt.subplots(figsize=(10,8))\n",
    "ax2 = ax1.twinx()\n",
    "resAA[['price']].plot(kind='bar', alpha = 0.5, ax = ax1, legend=None)\n",
    "resAA[['availability_365']].plot(kind='line', ax=ax2, color = 'r', legend=None)\n",
    "ax1.set_ylabel('price in $')\n",
    "ax2.set_ylabel('availability in %')\n",
    "plt.title(\"prices and availability in Seattle\", fontsize='x-large')\n",
    "plt.show()"
   ]
  },
  {
   "cell_type": "markdown",
   "metadata": {},
   "source": [
    "**FINDINGS:**\n",
    "\n",
    "- Prices depend extreme on the neighborhood (range from 177 dollar to 83 dollar)\n",
    "- Magnolia is the most expensiest neighborhood, following by Queen Ann, Downtown and West Seattle\n",
    "- prices in the 6 most cheapest neighborhoods are similar (between 83 and 94 dollar)\n",
    "- availability has no strong correlation to the price\n",
    "- rooms in more expensive areas have a less availability than cheaper areas (most of the top 10 most expensiest neighborhoods have an average availability of < 70%, whereas neighbourhoods with cheaper prices have an availability of > 70%\n",
    "- an exception is Magnolia (most expensiest neighourhood) with an availability of > 75%\n",
    "- availability does not vary extremely between neighourhoods -> for further price analysis no differentiation on neighbourhood necessary\n",
    "\n"
   ]
  },
  {
   "cell_type": "markdown",
   "metadata": {},
   "source": [
    "### b) What kind of seasonal effects exist on pricing? Correlation to occupancy ratio in the whole city?\n",
    "\n",
    "**DATA EVALUATION**\n",
    "\n",
    "- Only data from file calender is necessary\n",
    "- Instead of occupancy ratio availability is used (same meaning)\n",
    "- All data is already prepared, plots are possible\n"
   ]
  },
  {
   "cell_type": "code",
   "execution_count": 68,
   "metadata": {},
   "outputs": [
    {
     "data": {
      "image/png": "[encoded data removed]",
      "text/plain": [
       "<Figure size 432x288 with 1 Axes>"
      ]
     },
     "metadata": {
      "needs_background": "light"
     },
     "output_type": "display_data"
    }
   ],
   "source": [
    "# plot price per month\n",
    "df_cal.groupby(['year','month'])[['price']].mean().plot(kind=\"bar\");"
   ]
  },
  {
   "cell_type": "code",
   "execution_count": 69,
   "metadata": {},
   "outputs": [
    {
     "data": {
      "image/png": "[encoded data removed]",
      "text/plain": [
       "<Figure size 432x288 with 1 Axes>"
      ]
     },
     "metadata": {
      "needs_background": "light"
     },
     "output_type": "display_data"
    }
   ],
   "source": [
    "# plot price per month\n",
    "df_cal.groupby(['year','week'])[['price']].mean().plot();"
   ]
  },
  {
   "cell_type": "markdown",
   "metadata": {},
   "source": [
    "Plot per month is not really usefull since resolution is too low -> price per week is used for further analysis"
   ]
  },
  {
   "cell_type": "code",
   "execution_count": 70,
   "metadata": {},
   "outputs": [
    {
     "data": {
      "image/png": "[encoded data removed]",
      "text/plain": [
       "<Figure size 720x576 with 2 Axes>"
      ]
     },
     "metadata": {
      "needs_background": "light"
     },
     "output_type": "display_data"
    }
   ],
   "source": [
    "# plot price per week (for debugging)\n",
    "#price = df_cal.groupby(['year','week'])[['price']].mean()\n",
    "#print(price)\n",
    "\n",
    "# calculate availability (for debugging)\n",
    "#ratio = df_cal.groupby(['year','week'])['available'].mean()*100\n",
    "#print(ratio)\n",
    "\n",
    "#plot price and availability in 1 diagram\n",
    "plt.rcParams.update({'font.size': 14})\n",
    "fig, ax1 = plt.subplots(figsize=(10,8))\n",
    "ax2 = ax1.twinx()\n",
    "df_cal.groupby(['year','week'])[['price']].mean().plot(kind='line', ax = ax1, color = 'b', legend=None)\n",
    "df_cal.groupby(['year','week'])['available'].mean().multiply(100).plot(kind='line', ax=ax2, color = 'r', legend=None)\n",
    "ax1.set_ylabel('price in $')\n",
    "ax2.set_ylabel('availability in %')\n",
    "plt.title(\"prices and availability per week\", fontsize='x-large')\n",
    "plt.show()\n"
   ]
  },
  {
   "cell_type": "markdown",
   "metadata": {},
   "source": [
    "**FINDINGS:**\n",
    "\n",
    "- According the prices the highest prices are requested in summer during week 26 and 34 (average price > 150 US dollar)\n",
    "- Prices increase from beginning of year from 120 US dollar until peak in summer\n",
    "- Price level after highseason is higher than before highseason \n",
    "- Single Peaks are visible (exampel week 52, christmas time)\n",
    "- There is a correlation visible between prices and availability\n",
    "- Availability is lower during summer season compared to spring or autumn (~60% in summer, spring & autumn > 65%)\n",
    "- Beginning of the year availability increases with increasing prices \n",
    "- Availability after summer season is higher than before summer season in spring (higher prices after summer season)\n",
    "- Availability increases until end of year after minimum in summer (from 60% until 75%)\n",
    "- There are not attemts to attract more tourists in autumn / end of year by lowering the price (availability continiously increases)"
   ]
  },
  {
   "cell_type": "markdown",
   "metadata": {},
   "source": [
    "### c)  What are the most occuring amenities? What effect do they have on number of bookings?\n",
    "\n",
    "**DATA EVALUATION**\n",
    "\n",
    "- data frame df_label_ame is already prepared for analyzing the amenities\n",
    "- effect on number of bookings is only analyzed for top amenities\n",
    "- To analyze number of bookings the value availability_30 is used (dataframe listing)"
   ]
  },
  {
   "cell_type": "code",
   "execution_count": 71,
   "metadata": {},
   "outputs": [
    {
     "data": {
      "image/png": "[encoded data removed]",
      "text/plain": [
       "<Figure size 864x720 with 1 Axes>"
      ]
     },
     "metadata": {
      "needs_background": "light"
     },
     "output_type": "display_data"
    }
   ],
   "source": [
    "plt.rcParams.update({'font.size': 14})\n",
    "#print(df_label_ame.mean().mul(100).sort_values(ascending=False))\n",
    "ax = df_label_ame.mean().mul(100).sort_values(ascending=False).plot(kind='bar', figsize = (12,10))\n",
    "plt.title('Amenities in AirBNB accomodation')\n",
    "ax.set_ylabel('percentage of listings with amenity')\n",
    "plt.show()"
   ]
  },
  {
   "cell_type": "code",
   "execution_count": 72,
   "metadata": {},
   "outputs": [
    {
     "data": {
      "text/html": [
       "<div>\n",
       "<style scoped>\n",
       "    .dataframe tbody tr th:only-of-type {\n",
       "        vertical-align: middle;\n",
       "    }\n",
       "\n",
       "    .dataframe tbody tr th {\n",
       "        vertical-align: top;\n",
       "    }\n",
       "\n",
       "    .dataframe thead th {\n",
       "        text-align: right;\n",
       "    }\n",
       "</style>\n",
       "<table border=\"1\" class=\"dataframe\">\n",
       "  <thead>\n",
       "    <tr style=\"text-align: right;\">\n",
       "      <th></th>\n",
       "      <th>amenity</th>\n",
       "      <th>perc</th>\n",
       "      <th>occup. w</th>\n",
       "      <th>occup. w/o</th>\n",
       "      <th>delta</th>\n",
       "    </tr>\n",
       "  </thead>\n",
       "  <tbody>\n",
       "    <tr>\n",
       "      <th>15</th>\n",
       "      <td>Wireless Internet</td>\n",
       "      <td>96.045050</td>\n",
       "      <td>44.135079</td>\n",
       "      <td>41.876380</td>\n",
       "      <td>2.258699</td>\n",
       "    </tr>\n",
       "    <tr>\n",
       "      <th>8</th>\n",
       "      <td>Heating</td>\n",
       "      <td>94.997381</td>\n",
       "      <td>44.009742</td>\n",
       "      <td>44.729494</td>\n",
       "      <td>-0.719752</td>\n",
       "    </tr>\n",
       "    <tr>\n",
       "      <th>10</th>\n",
       "      <td>Kitchen</td>\n",
       "      <td>89.654269</td>\n",
       "      <td>45.115396</td>\n",
       "      <td>34.776371</td>\n",
       "      <td>10.339025</td>\n",
       "    </tr>\n",
       "    <tr>\n",
       "      <th>12</th>\n",
       "      <td>Smoke Detector</td>\n",
       "      <td>85.935045</td>\n",
       "      <td>44.599208</td>\n",
       "      <td>40.664184</td>\n",
       "      <td>3.935024</td>\n",
       "    </tr>\n",
       "    <tr>\n",
       "      <th>3</th>\n",
       "      <td>Essentials</td>\n",
       "      <td>84.782609</td>\n",
       "      <td>44.380599</td>\n",
       "      <td>42.180149</td>\n",
       "      <td>2.200450</td>\n",
       "    </tr>\n",
       "    <tr>\n",
       "      <th>2</th>\n",
       "      <td>Dryer</td>\n",
       "      <td>78.496595</td>\n",
       "      <td>45.041708</td>\n",
       "      <td>40.410069</td>\n",
       "      <td>4.631639</td>\n",
       "    </tr>\n",
       "    <tr>\n",
       "      <th>14</th>\n",
       "      <td>Washer</td>\n",
       "      <td>78.365636</td>\n",
       "      <td>44.954323</td>\n",
       "      <td>40.754641</td>\n",
       "      <td>4.199682</td>\n",
       "    </tr>\n",
       "    <tr>\n",
       "      <th>9</th>\n",
       "      <td>Internet</td>\n",
       "      <td>73.624935</td>\n",
       "      <td>44.546425</td>\n",
       "      <td>42.648130</td>\n",
       "      <td>1.898295</td>\n",
       "    </tr>\n",
       "    <tr>\n",
       "      <th>11</th>\n",
       "      <td>Shampoo</td>\n",
       "      <td>69.931902</td>\n",
       "      <td>43.353308</td>\n",
       "      <td>45.656214</td>\n",
       "      <td>-2.302905</td>\n",
       "    </tr>\n",
       "    <tr>\n",
       "      <th>13</th>\n",
       "      <td>TV</td>\n",
       "      <td>67.417496</td>\n",
       "      <td>45.242165</td>\n",
       "      <td>41.570204</td>\n",
       "      <td>3.671962</td>\n",
       "    </tr>\n",
       "    <tr>\n",
       "      <th>1</th>\n",
       "      <td>Carbon Monoxide Detector</td>\n",
       "      <td>65.086433</td>\n",
       "      <td>44.563380</td>\n",
       "      <td>43.080770</td>\n",
       "      <td>1.482610</td>\n",
       "    </tr>\n",
       "    <tr>\n",
       "      <th>5</th>\n",
       "      <td>Fire Extinguisher</td>\n",
       "      <td>57.517025</td>\n",
       "      <td>42.799029</td>\n",
       "      <td>45.733662</td>\n",
       "      <td>-2.934634</td>\n",
       "    </tr>\n",
       "    <tr>\n",
       "      <th>7</th>\n",
       "      <td>Free Parking on Premises</td>\n",
       "      <td>56.757465</td>\n",
       "      <td>43.873250</td>\n",
       "      <td>44.272158</td>\n",
       "      <td>-0.398908</td>\n",
       "    </tr>\n",
       "    <tr>\n",
       "      <th>4</th>\n",
       "      <td>Family/Kid Friendly</td>\n",
       "      <td>51.414353</td>\n",
       "      <td>44.720666</td>\n",
       "      <td>43.331536</td>\n",
       "      <td>1.389129</td>\n",
       "    </tr>\n",
       "    <tr>\n",
       "      <th>6</th>\n",
       "      <td>First Aid Kit</td>\n",
       "      <td>44.002095</td>\n",
       "      <td>42.486111</td>\n",
       "      <td>45.271282</td>\n",
       "      <td>-2.785170</td>\n",
       "    </tr>\n",
       "    <tr>\n",
       "      <th>0</th>\n",
       "      <td>Cable TV</td>\n",
       "      <td>37.873232</td>\n",
       "      <td>42.381282</td>\n",
       "      <td>45.060427</td>\n",
       "      <td>-2.679146</td>\n",
       "    </tr>\n",
       "  </tbody>\n",
       "</table>\n",
       "</div>"
      ],
      "text/plain": [
       "                     amenity       perc   occup. w  occup. w/o      delta\n",
       "15         Wireless Internet  96.045050  44.135079   41.876380   2.258699\n",
       "8                    Heating  94.997381  44.009742   44.729494  -0.719752\n",
       "10                   Kitchen  89.654269  45.115396   34.776371  10.339025\n",
       "12            Smoke Detector  85.935045  44.599208   40.664184   3.935024\n",
       "3                 Essentials  84.782609  44.380599   42.180149   2.200450\n",
       "2                      Dryer  78.496595  45.041708   40.410069   4.631639\n",
       "14                    Washer  78.365636  44.954323   40.754641   4.199682\n",
       "9                   Internet  73.624935  44.546425   42.648130   1.898295\n",
       "11                   Shampoo  69.931902  43.353308   45.656214  -2.302905\n",
       "13                        TV  67.417496  45.242165   41.570204   3.671962\n",
       "1   Carbon Monoxide Detector  65.086433  44.563380   43.080770   1.482610\n",
       "5          Fire Extinguisher  57.517025  42.799029   45.733662  -2.934634\n",
       "7   Free Parking on Premises  56.757465  43.873250   44.272158  -0.398908\n",
       "4        Family/Kid Friendly  51.414353  44.720666   43.331536   1.389129\n",
       "6              First Aid Kit  44.002095  42.486111   45.271282  -2.785170\n",
       "0                   Cable TV  37.873232  42.381282   45.060427  -2.679146"
      ]
     },
     "execution_count": 72,
     "metadata": {},
     "output_type": "execute_result"
    }
   ],
   "source": [
    "# add column availability_365 to dataframe\n",
    "\n",
    "df_list['available'] = df_list['availability_30'].div(30)\n",
    "df_new = pd.concat([df_label_ame, df_list['available']], axis = 1)\n",
    "\n",
    "# for debugging\n",
    "#df_new = df_new.head(10)\n",
    "# print(df_new)\n",
    "\n",
    "df_res = []\n",
    "df_res = pd.DataFrame(columns = ['amenity', 'perc', 'occup. w', 'occup. w/o', 'delta'])\n",
    "for col in df_new.columns:\n",
    "    if col == 'available':\n",
    "        continue\n",
    "    # calc average availability for each amenities\n",
    "    aa = df_new[col].mean()*100\n",
    "    # only use top amenities (> 25%)\n",
    "    if aa > 25:\n",
    "        bb = (1 - (df_new['available'][df_new[col]]).mean())*100\n",
    "        cc = (1 - (df_new['available'][~df_new[col]]).mean())*100\n",
    "        df_res = df_res.append({'amenity': col, 'perc': aa, 'occup. w': bb, 'occup. w/o':cc, 'delta': bb-cc}, ignore_index=True)\n",
    "\n",
    "df_res = df_res.sort_values('perc', ascending=False)\n",
    "df_res\n",
    "   \n",
    "    "
   ]
  },
  {
   "cell_type": "markdown",
   "metadata": {},
   "source": [
    "**FINDINGS:**\n",
    "\n",
    "- The most occuring amenities are: Wireless Internet, Heating, Ktichen, Smoke detectors, Essentials, Dryer, Washer. More than 78% of all listings have these amenities.\n",
    "- Only wireless internet, heating, kitchen, smoke detector, essentials, dryer, washer, internet, shampoo, TV, carbon monoxide detector, fire extinguisher, free parking, family/kid friendly, first aid kit and cable tv appear in more than 25% of all listings\n",
    "- listings with kitchen have a significant higher booking / occupancy in case a kitchen is available (10% higher); This is remarkable since a kitchen is available in 89.7% of all listings\n",
    "- listings with Smoke detector (+3.9%), Dryer (+4.6%), Washer (+4.2%) and TV (+3.7%) have also a higher booking rate than listings without. Smoke detector maybe a coincidence\n",
    "- In general listings with more amenities have a higher booking rate than listings with less amenities"
   ]
  },
  {
   "cell_type": "code",
   "execution_count": null,
   "metadata": {},
   "outputs": [],
   "source": []
  }
 ],
 "metadata": {
  "kernelspec": {
   "display_name": "Python 3",
   "language": "python",
   "name": "python3"
  },
  "language_info": {
   "codemirror_mode": {
    "name": "ipython",
    "version": 3
   },
   "file_extension": ".py",
   "mimetype": "text/x-python",
   "name": "python",
   "nbconvert_exporter": "python",
   "pygments_lexer": "ipython3",
   "version": "3.8.5"
  }
 },
 "nbformat": 4,
 "nbformat_minor": 4
}
